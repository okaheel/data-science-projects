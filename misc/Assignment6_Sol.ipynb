{
 "cells": [
  {
   "cell_type": "markdown",
   "metadata": {},
   "source": [
    "# Assignment 6 (10 Points): Models\n",
    "\n",
    "## Code written in R"
   ]
  },
  {
   "cell_type": "code",
   "execution_count": 1,
   "metadata": {},
   "outputs": [
    {
     "name": "stderr",
     "output_type": "stream",
     "text": [
      "Warning message:\n",
      "\"package 'tidyverse' was built under R version 3.6.2\"-- Attaching packages --------------------------------------- tidyverse 1.3.0 --\n",
      "v ggplot2 3.2.1     v purrr   0.3.3\n",
      "v tibble  2.1.3     v dplyr   0.8.3\n",
      "v tidyr   1.0.0     v stringr 1.4.0\n",
      "v readr   1.3.1     v forcats 0.4.0\n",
      "Warning message:\n",
      "\"package 'ggplot2' was built under R version 3.6.2\"Warning message:\n",
      "\"package 'tibble' was built under R version 3.6.2\"Warning message:\n",
      "\"package 'tidyr' was built under R version 3.6.2\"Warning message:\n",
      "\"package 'purrr' was built under R version 3.6.2\"Warning message:\n",
      "\"package 'dplyr' was built under R version 3.6.2\"-- Conflicts ------------------------------------------ tidyverse_conflicts() --\n",
      "x dplyr::filter() masks stats::filter()\n",
      "x dplyr::lag()    masks stats::lag()\n",
      "Warning message:\n",
      "\"package 'modelr' was built under R version 3.6.2\""
     ]
    }
   ],
   "source": [
    "library(tidyverse)\n",
    "library(modelr)"
   ]
  },
  {
   "cell_type": "markdown",
   "metadata": {},
   "source": [
    "### Q1 (5 points): Reproduce the following outcome by regressing ```Petal.Length``` on ```Petal.Width``` using the ```iris``` dataset and the following commands:\n",
    "\n",
    "```\n",
    "group_by, nest, mutate, map, function, broom::tidy, lm, unnest, select\n",
    "```"
   ]
  },
  {
   "cell_type": "code",
   "execution_count": 2,
   "metadata": {
    "scrolled": true
   },
   "outputs": [
    {
     "data": {
      "text/html": [
       "<table>\n",
       "<thead><tr><th scope=col>Species</th><th scope=col>term</th><th scope=col>estimate</th><th scope=col>std.error</th><th scope=col>statistic</th><th scope=col>p.value</th></tr></thead>\n",
       "<tbody>\n",
       "\t<tr><td>setosa      </td><td>(Intercept) </td><td>1.3275634   </td><td>0.0599594   </td><td>22.141037   </td><td>7.676120e-27</td></tr>\n",
       "\t<tr><td>setosa      </td><td>Petal.Width </td><td>0.5464903   </td><td>0.2243924   </td><td> 2.435422   </td><td>1.863892e-02</td></tr>\n",
       "\t<tr><td>versicolor  </td><td>(Intercept) </td><td>1.7812754   </td><td>0.2838234   </td><td> 6.276000   </td><td>9.484134e-08</td></tr>\n",
       "\t<tr><td>versicolor  </td><td>Petal.Width </td><td>1.8693247   </td><td>0.2117495   </td><td> 8.827999   </td><td>1.271916e-11</td></tr>\n",
       "\t<tr><td>virginica   </td><td>(Intercept) </td><td>4.2406526   </td><td>0.5612870   </td><td> 7.555230   </td><td>1.041600e-09</td></tr>\n",
       "\t<tr><td>virginica   </td><td>Petal.Width </td><td>0.6472593   </td><td>0.2745804   </td><td> 2.357267   </td><td>2.253577e-02</td></tr>\n",
       "</tbody>\n",
       "</table>\n"
      ],
      "text/latex": [
       "\\begin{tabular}{r|llllll}\n",
       " Species & term & estimate & std.error & statistic & p.value\\\\\n",
       "\\hline\n",
       "\t setosa       & (Intercept)  & 1.3275634    & 0.0599594    & 22.141037    & 7.676120e-27\\\\\n",
       "\t setosa       & Petal.Width  & 0.5464903    & 0.2243924    &  2.435422    & 1.863892e-02\\\\\n",
       "\t versicolor   & (Intercept)  & 1.7812754    & 0.2838234    &  6.276000    & 9.484134e-08\\\\\n",
       "\t versicolor   & Petal.Width  & 1.8693247    & 0.2117495    &  8.827999    & 1.271916e-11\\\\\n",
       "\t virginica    & (Intercept)  & 4.2406526    & 0.5612870    &  7.555230    & 1.041600e-09\\\\\n",
       "\t virginica    & Petal.Width  & 0.6472593    & 0.2745804    &  2.357267    & 2.253577e-02\\\\\n",
       "\\end{tabular}\n"
      ],
      "text/markdown": [
       "\n",
       "| Species | term | estimate | std.error | statistic | p.value |\n",
       "|---|---|---|---|---|---|\n",
       "| setosa       | (Intercept)  | 1.3275634    | 0.0599594    | 22.141037    | 7.676120e-27 |\n",
       "| setosa       | Petal.Width  | 0.5464903    | 0.2243924    |  2.435422    | 1.863892e-02 |\n",
       "| versicolor   | (Intercept)  | 1.7812754    | 0.2838234    |  6.276000    | 9.484134e-08 |\n",
       "| versicolor   | Petal.Width  | 1.8693247    | 0.2117495    |  8.827999    | 1.271916e-11 |\n",
       "| virginica    | (Intercept)  | 4.2406526    | 0.5612870    |  7.555230    | 1.041600e-09 |\n",
       "| virginica    | Petal.Width  | 0.6472593    | 0.2745804    |  2.357267    | 2.253577e-02 |\n",
       "\n"
      ],
      "text/plain": [
       "  Species    term        estimate  std.error statistic p.value     \n",
       "1 setosa     (Intercept) 1.3275634 0.0599594 22.141037 7.676120e-27\n",
       "2 setosa     Petal.Width 0.5464903 0.2243924  2.435422 1.863892e-02\n",
       "3 versicolor (Intercept) 1.7812754 0.2838234  6.276000 9.484134e-08\n",
       "4 versicolor Petal.Width 1.8693247 0.2117495  8.827999 1.271916e-11\n",
       "5 virginica  (Intercept) 4.2406526 0.5612870  7.555230 1.041600e-09\n",
       "6 virginica  Petal.Width 0.6472593 0.2745804  2.357267 2.253577e-02"
      ]
     },
     "metadata": {},
     "output_type": "display_data"
    }
   ],
   "source": [
    "iris %>% group_by(Species) %>% nest()%>%\n",
    "    mutate(term = map(map(data, function(df){lm(Petal.Length ~ Petal.Width, data = df)}), broom::tidy))%>%\n",
    "    unnest(term)%>%\n",
    "    select(-(data))"
   ]
  },
  {
   "cell_type": "markdown",
   "metadata": {},
   "source": [
    "### Q2 (5 points): Reproduce the following figure by regressing ```Petal.Length``` on ```Petal.Width``` using the ```iris``` dataset and the following commands:\n",
    "\n",
    "```\n",
    "group_by, nest, mutate, map, function, add_predictions, lm, unnest, select, ggplot, geom_point, aes, color, geom_line\n",
    "```"
   ]
  },
  {
   "cell_type": "code",
   "execution_count": 3,
   "metadata": {},
   "outputs": [
    {
     "data": {
      "image/png": "[encoded data removed]",
      "text/plain": [
       "plot without title"
      ]
     },
     "metadata": {},
     "output_type": "display_data"
    }
   ],
   "source": [
    "iris <- iris %>% group_by(Species)\n",
    "\n",
    "model <- lm(Petal.Length ~ Petal.Width * Species, data = iris)\n",
    "\n",
    "grid <- iris %>% data_grid(Petal.Width, Petal.Length) %>%\n",
    "        add_predictions(model, 'Petal.Length')\n",
    "\n",
    "ggplot(iris, aes(Petal.Width, Petal.Length, color = Species)) +\n",
    "        geom_point() +\n",
    "        geom_line(data = grid)"
   ]
  }
 ],
 "metadata": {
  "kernelspec": {
   "display_name": "R",
   "language": "R",
   "name": "ir"
  },
  "language_info": {
   "codemirror_mode": "r",
   "file_extension": ".r",
   "mimetype": "text/x-r-source",
   "name": "R",
   "pygments_lexer": "r",
   "version": "3.6.1"
  }
 },
 "nbformat": 4,
 "nbformat_minor": 2
}